{
 "cells": [
  {
   "cell_type": "code",
   "execution_count": 49,
   "id": "cffdede3",
   "metadata": {},
   "outputs": [],
   "source": [
    "import pandas as pd\n",
    "import numpy as np\n",
    "import csv"
   ]
  },
  {
   "cell_type": "code",
   "execution_count": 50,
   "id": "3d6d3999",
   "metadata": {},
   "outputs": [],
   "source": [
    "data = pd.read_csv('AirQualityUCI.csv', usecols=range(15), delimiter=\",\")"
   ]
  },
  {
   "cell_type": "code",
   "execution_count": 51,
   "id": "236f20a6",
   "metadata": {},
   "outputs": [
    {
     "data": {
      "text/plain": [
       "Date                0\n",
       "Time                0\n",
       "CO(GT)           1683\n",
       "PT08.S1(CO)       366\n",
       "NMHC(GT)         8443\n",
       "C6H6(GT)          366\n",
       "PT08.S2(NMHC)     366\n",
       "NOx(GT)          1639\n",
       "PT08.S3(NOx)      366\n",
       "NO2(GT)          1642\n",
       "PT08.S4(NO2)      366\n",
       "PT08.S5(O3)       366\n",
       "T                 366\n",
       "RH                366\n",
       "AH                366\n",
       "dtype: int64"
      ]
     },
     "execution_count": 51,
     "metadata": {},
     "output_type": "execute_result"
    }
   ],
   "source": [
    "# Checking for missing values marked as -200 in the dataset\n",
    "missing_values_count = (data == -200).sum()\n",
    "missing_values_count"
   ]
  },
  {
   "cell_type": "code",
   "execution_count": 52,
   "id": "11f829dd",
   "metadata": {},
   "outputs": [
    {
     "data": {
      "text/plain": [
       "0       0\n",
       "1       0\n",
       "2       0\n",
       "3       0\n",
       "4       0\n",
       "       ..\n",
       "9352    1\n",
       "9353    1\n",
       "9354    1\n",
       "9355    1\n",
       "9356    1\n",
       "Length: 9357, dtype: int64"
      ]
     },
     "execution_count": 52,
     "metadata": {},
     "output_type": "execute_result"
    }
   ],
   "source": [
    "# Replace -200 with NaN in numeric columns only\n",
    "numeric_columns = data.select_dtypes(include=['float64', 'int64']).columns\n",
    "data[numeric_columns] = data[numeric_columns].replace(-200, np.nan)\n",
    "\n",
    "# Calculate the number of missing values per row\n",
    "missing_values_per_row = data.isna().sum(axis=1)\n",
    "missing_values_per_row"
   ]
  },
  {
   "cell_type": "code",
   "execution_count": 53,
   "id": "bd4159f3",
   "metadata": {},
   "outputs": [
    {
     "data": {
      "text/plain": [
       "((9357, 15), (9326, 15))"
      ]
     },
     "execution_count": 53,
     "metadata": {},
     "output_type": "execute_result"
    }
   ],
   "source": [
    "# Select columns from the third to the last\n",
    "columns_to_check = data.columns[2:]\n",
    "\n",
    "# Drop rows where all selected columns are NaN\n",
    "data_cleaned = data.dropna(how='all', subset=columns_to_check)\n",
    "\n",
    "# Display the shape of the original and cleaned datasets to see how many rows were dropped\n",
    "original_shape = data.shape\n",
    "cleaned_shape = data_cleaned.shape\n",
    "\n",
    "original_shape, cleaned_shape"
   ]
  },
  {
   "cell_type": "code",
   "execution_count": 56,
   "id": "084e422b",
   "metadata": {},
   "outputs": [
    {
     "name": "stderr",
     "output_type": "stream",
     "text": [
      "/var/folders/_h/v3zx4l357d3fgz8svznhxcjc0000gn/T/ipykernel_82503/3345345187.py:2: SettingWithCopyWarning: \n",
      "A value is trying to be set on a copy of a slice from a DataFrame.\n",
      "Try using .loc[row_indexer,col_indexer] = value instead\n",
      "\n",
      "See the caveats in the documentation: https://pandas.pydata.org/pandas-docs/stable/user_guide/indexing.html#returning-a-view-versus-a-copy\n",
      "  data_cleaned[numeric_columns] = data_cleaned[numeric_columns].interpolate(method='linear')\n"
     ]
    },
    {
     "data": {
      "text/plain": [
       "Date             0\n",
       "Time             0\n",
       "CO(GT)           0\n",
       "PT08.S1(CO)      0\n",
       "NMHC(GT)         0\n",
       "C6H6(GT)         0\n",
       "PT08.S2(NMHC)    0\n",
       "NOx(GT)          0\n",
       "PT08.S3(NOx)     0\n",
       "NO2(GT)          0\n",
       "PT08.S4(NO2)     0\n",
       "PT08.S5(O3)      0\n",
       "T                0\n",
       "RH               0\n",
       "AH               0\n",
       "dtype: int64"
      ]
     },
     "execution_count": 56,
     "metadata": {},
     "output_type": "execute_result"
    }
   ],
   "source": [
    "# Apply linear interpolation to fill missing values\n",
    "data_cleaned[numeric_columns] = data_cleaned[numeric_columns].interpolate(method='linear')\n",
    "\n",
    "# Check for any remaining missing values\n",
    "remaining_missing_values = data_cleaned.isna().sum()\n",
    "remaining_missing_values"
   ]
  },
  {
   "cell_type": "code",
   "execution_count": 57,
   "id": "646697b4",
   "metadata": {},
   "outputs": [],
   "source": [
    "data_cleaned.to_csv('Processed_AirQualityUCI.csv')"
   ]
  }
 ],
 "metadata": {
  "kernelspec": {
   "display_name": "Python 3 (ipykernel)",
   "language": "python",
   "name": "python3"
  },
  "language_info": {
   "codemirror_mode": {
    "name": "ipython",
    "version": 3
   },
   "file_extension": ".py",
   "mimetype": "text/x-python",
   "name": "python",
   "nbconvert_exporter": "python",
   "pygments_lexer": "ipython3",
   "version": "3.11.4"
  }
 },
 "nbformat": 4,
 "nbformat_minor": 5
}
